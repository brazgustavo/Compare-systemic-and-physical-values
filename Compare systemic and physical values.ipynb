{
 "cells": [
  {
   "cell_type": "code",
   "execution_count": null,
   "metadata": {},
   "outputs": [],
   "source": [
    "#Importing necessary libraries\n",
    "import pandas as pd\n",
    "\n",
    "# 📥: Importing databases.\n",
    "sap = pd.read_excel('C:\\\\Users\\\\f1p1xq8\\\\Downloads\\\\export.XLSX', sheet_name=None)\n",
    "local = pd.read_excel('C:\\\\Users\\\\f1p1xq8\\\\Downloads\\\\Localização de itens.XLSX', sheet_name=None)\n",
    "\n",
    "\n",
    "#🗃️: Treating databases\n",
    "sap = sap[sap['Bloqueado'] > 0]\n",
    "sap = sap[sap['Depósito'].str.contains('I140|I800', case=False)]\n",
    "sap = sap.reset_index(drop=True)\n",
    "local = pd.read_excel('C:\\\\Users\\\\f1p1xq8\\\\Downloads\\\\Localização de itens.XLSX', sheet_name=None)\n",
    "try:\n",
    "    local = local.str.upper()\n",
    "except:\n",
    "    pass\n",
    "\n",
    "#Returns items that are systemically locked but not physically in the warehouse\n",
    "sem_item_fisico = []\n",
    "\n",
    "for i, item in enumerate(sap['Nº do material']):\n",
    "    if not item in local['PN'].values:\n",
    "        sem_item_fisico.append((item, sap['Depósito'][i], sap['Bloqueado'][i]))\n",
    "\n",
    "print(sem_item_fisico)\n",
    "print(len(sem_item_fisico))\n",
    "\n",
    "df = pd.DataFrame(sem_item_fisico, columns=['PN', 'Depósito', 'Quantidade'])\n",
    "\n",
    "df.to_excel('itens que não estão fisicamente no i140.xlsx', index=False)\n",
    "\n"
   ]
  }
 ],
 "metadata": {
  "kernelspec": {
   "display_name": "Python 3 (ipykernel)",
   "language": "python",
   "name": "python3"
  },
  "language_info": {
   "codemirror_mode": {
    "name": "ipython",
    "version": 3
   },
   "file_extension": ".py",
   "mimetype": "text/x-python",
   "name": "python",
   "nbconvert_exporter": "python",
   "pygments_lexer": "ipython3",
   "version": "3.9.13"
  }
 },
 "nbformat": 4,
 "nbformat_minor": 2
}
